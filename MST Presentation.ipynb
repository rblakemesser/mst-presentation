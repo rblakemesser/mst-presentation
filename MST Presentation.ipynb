{
 "metadata": {
  "name": ""
 },
 "nbformat": 3,
 "nbformat_minor": 0,
 "worksheets": [
  {
   "cells": [
    {
     "cell_type": "markdown",
     "metadata": {},
     "source": [
      "MST Presentation\n",
      "==========================\n",
      "\n",
      "Start by defining elementary components\n",
      "--------------------------------------\n",
      "\n",
      "- Graph\n",
      "- Tree (Lawlee / Liu)\n",
      "- Minimum Spanning Tree\n",
      "- Kruskal / Djakstra (MST for non-distributed systems)\n",
      "- Lead into Gallagher for distributed systems"
     ]
    },
    {
     "cell_type": "markdown",
     "metadata": {},
     "source": [
      "### New challenges with distributed systems -- and thus the motivation for the gallagher paper\n",
      "\n",
      "- useful in comminucation networks when one wishes to broadcast information from one node to all other nodes and there is a cost associated with each channel on the network. \n",
      "- there are a number of applications for distributed algos that can select the node with the highest identity number. an efficeitn distributed algo for this problem starts with the MST algo and then uses the resulting tree to find the highest numbered node.\n",
      "\n",
      "### Two properties\n",
      "\n",
      "- Given a fragment of an MST, joining it with its min weight outgoing edge node creates a new fragment of the MST\n",
      "- If all the edges of a connected graph have different weights, then the MST is unique"
     ]
    },
    {
     "cell_type": "markdown",
     "metadata": {},
     "source": [
      "#### Assumptions\n",
      "\n",
      "- Nodes know initial weights on their edges\n",
      "- Undirected edges\n",
      "- Transit times are finite and assume no errors\n",
      "\n",
      "#### \n",
      "\n",
      "\n",
      "\n",
      "\n",
      "#### Costs\n",
      "\n",
      "- Message complexity (worst case total messages of algorithm)\n",
      "- Memory complexity"
     ]
    },
    {
     "cell_type": "markdown",
     "metadata": {},
     "source": [
      "### 3 States for each node\n",
      "\n",
      "- Sleeping\n",
      "- Find\n",
      "- Found\n",
      "\n",
      "### 3 states for each edge\n",
      "\n",
      "- Branch\n",
      "- Rejected\n",
      "- Basic\n",
      "\n",
      "### Types of messages (FILL IN MESSAGE CONTENTS)\n",
      "\n",
      "- Initiate\n",
      "- Test\n",
      "- Reject\n",
      "- Accept\n",
      "- Report\n",
      "- Accept\n",
      "- Change-core\n",
      "- Connect node\n",
      "\n",
      "### Will the same MST always have the same core edge, regardless of which node was initialized first?\n",
      "\n"
     ]
    },
    {
     "cell_type": "markdown",
     "metadata": {},
     "source": []
    }
   ],
   "metadata": {}
  }
 ]
}